{
 "cells": [
  {
   "cell_type": "code",
   "execution_count": null,
   "metadata": {},
   "outputs": [],
   "source": [
    "import pandas as pd\n",
    "import numpy as np\n",
    "import seaborn as sns\n",
    "import matplotlib.pyplot as plt\n",
    "import missingno as msno\n",
    "import re"
   ]
  },
  {
   "cell_type": "markdown",
   "metadata": {},
   "source": [
    "# Getting data from Nookipedia API"
   ]
  },
  {
   "cell_type": "code",
   "execution_count": null,
   "metadata": {},
   "outputs": [],
   "source": [
    "import requests\n",
    "query = {'api_key':'dec79279-a19e-4691-bd8a-3035d3fbbaa7', 'nhdetails': True}\n",
    "response = requests.get(\"https://api.nookipedia.com/villagers?game=nh&nhdetails=true\", query)\n",
    "api_df = response.json()"
   ]
  },
  {
   "cell_type": "code",
   "execution_count": null,
   "metadata": {},
   "outputs": [],
   "source": [
    "anch = [[villager[\"name\"], villager[\"gender\"], villager[\"species\"], villager[\"personality\"], villager[\"sign\"], villager[\"nh_details\"][\"hobby\"], len(villager['appearances']) - 1] for villager in api_df]"
   ]
  },
  {
   "cell_type": "code",
   "execution_count": null,
   "metadata": {},
   "outputs": [],
   "source": [
    "anch = pd.DataFrame(anch, columns=[\"name\", \"gender\", \"species\", \"personality\", \"sign\", \"hobby\", \"n_appearances\"])\n",
    "#anch.set_index(\"name\", inplace=True)"
   ]
  },
  {
   "cell_type": "code",
   "execution_count": null,
   "metadata": {},
   "outputs": [],
   "source": [
    "anch.loc[anch[\"personality\"] == \"Big sister\", \"personality\"] = \"Sisterly\""
   ]
  },
  {
   "cell_type": "markdown",
   "metadata": {},
   "source": [
    "# Computing villagers' personality compatibility matrix"
   ]
  },
  {
   "cell_type": "code",
   "execution_count": null,
   "metadata": {},
   "outputs": [],
   "source": [
    "personality_compatibility = pd.read_csv(\"data/compatibility_personality.csv\")\n",
    "sign_compatibility = pd.read_csv(\"data/compatibility_sign.csv\")\n",
    "species_compatibility = pd.read_csv(\"data/compatibility_species.csv\")"
   ]
  },
  {
   "cell_type": "code",
   "execution_count": null,
   "metadata": {},
   "outputs": [],
   "source": [
    "compatibility_matrix = pd.DataFrame(np.zeros((len(anch), len(anch))), columns=anch[\"name\"], index=anch[\"name\"])\n",
    "\n",
    "for villager1 in compatibility_matrix.index:\n",
    "    for villager2 in compatibility_matrix.columns:\n",
    "        \n",
    "        #personality\n",
    "        villager1_personality = anch[anch[\"name\"] == villager1].personality.values[0]\n",
    "        villager2_personality = anch[anch[\"name\"] == villager2].personality.values[0]\n",
    "        \n",
    "        #sign\n",
    "        villager1_sign = anch[anch[\"name\"] == villager1].sign.values[0]\n",
    "        villager2_sign = anch[anch[\"name\"] == villager2].sign.values[0]\n",
    "        \n",
    "        #species\n",
    "        villager1_species = anch[anch[\"name\"] == villager1].species.values[0]\n",
    "        villager2_species = anch[anch[\"name\"] == villager2].species.values[0]\n",
    "        \n",
    "        compatibility = personality_compatibility[villager1_personality][villager2_personality] + \\\n",
    "                        sign_compatibility[villager1_sign][villager2_sign] \n",
    "        \n",
    "        if (villager1_species not in species_compatibility.columns.values) or ((villager2_species not in species_compatibility.columns.values)):\n",
    "            if villager1_species == villager2_species:\n",
    "                compatibility += '♦'\n",
    "            else:\n",
    "                compatibility += '♣'\n",
    "        else:\n",
    "            compatibility += species_compatibility[villager1_species][villager1_species]\n",
    "\n",
    "        compatibility_matrix.loc[villager1,villager2] = compatibility"
   ]
  },
  {
   "cell_type": "code",
   "execution_count": null,
   "metadata": {},
   "outputs": [],
   "source": [
    "def good_compatibility(s):\n",
    "    if '♥' in s:\n",
    "        if '♦' in s:\n",
    "            if '♣' in s:\n",
    "                return True\n",
    "            elif '♦' in s:\n",
    "                return True\n",
    "    return False\n",
    "\n",
    "villagers_compatibility = compatibility_matrix.copy()\n",
    "\n",
    "for i in compatibility_matrix.index:\n",
    "    for j in compatibility_matrix.columns:\n",
    "        compatibility = villagers_compatibility.loc[i,j]\n",
    "        if compatibility.count('♥') >= 2 or good_compatibility(compatibility):\n",
    "            villagers_compatibility.loc[i,j] = 2\n",
    "        elif compatibility.count('✖') >= 2:\n",
    "            villagers_compatibility.loc[i,j] = 0\n",
    "        else:\n",
    "            villagers_compatibility.loc[i,j] = 1"
   ]
  },
  {
   "cell_type": "markdown",
   "metadata": {},
   "source": [
    "# Adding Tier/Rank data\n"
   ]
  },
  {
   "cell_type": "code",
   "execution_count": null,
   "metadata": {},
   "outputs": [],
   "source": [
    "tier_rank = pd.read_csv(\"data/acnh_villager_rank_data.csv\")\n",
    "villagers = anch"
   ]
  },
  {
   "cell_type": "code",
   "execution_count": null,
   "metadata": {},
   "outputs": [],
   "source": [
    "#How much villagers in tier_rank df are not represented in the villagers df\n",
    "tier_rank[\"name\"][tier_rank[\"name\"].isin(villagers[\"name\"]) == False].index.value_counts().sum()"
   ]
  },
  {
   "cell_type": "code",
   "execution_count": null,
   "metadata": {},
   "outputs": [],
   "source": [
    "#We correct some missmatching names\n",
    "tier_rank['name'] = tier_rank['name'].replace(['OHare'],\"O\\'Hare\")\n",
    "tier_rank['name'] = tier_rank['name'].replace(['Buck(Brows)'],\"Buck\")\n",
    "tier_rank['name'] = tier_rank['name'].replace(['Renee'],\"Renée\")\n",
    "tier_rank['name'] = tier_rank['name'].replace(['WartJr'],\"Wart Jr.\")\n",
    "tier_rank['name'] = tier_rank['name'].replace(['Crackle(Spork)'],\"Spork\")"
   ]
  },
  {
   "cell_type": "code",
   "execution_count": null,
   "metadata": {},
   "outputs": [
    {
     "data": {
      "text/plain": [
       "True"
      ]
     },
     "metadata": {},
     "output_type": "display_data"
    }
   ],
   "source": [
    "#Assess if all the villagers in the villagers df are included in the tier_rank df\n",
    "tier_rank[\"name\"][tier_rank[\"name\"].isin(villagers[\"name\"])].index.value_counts().sum() == villagers.shape[0]"
   ]
  },
  {
   "cell_type": "code",
   "execution_count": null,
   "metadata": {},
   "outputs": [],
   "source": [
    "#We drop villagers that are not in our tier_rank dataframe\n",
    "tier_rank.drop(tier_rank[\"name\"][tier_rank[\"name\"].isin(villagers[\"name\"]) == False].index)"
   ]
  },
  {
   "cell_type": "code",
   "execution_count": null,
   "metadata": {},
   "outputs": [],
   "source": [
    "#We join both dataframes\n",
    "villagers.set_index('name', drop=True, inplace=True)\n",
    "tier_rank.set_index('name', drop=True, inplace=True)"
   ]
  },
  {
   "cell_type": "code",
   "execution_count": null,
   "metadata": {},
   "outputs": [],
   "source": [
    "villagers = villagers.join(tier_rank)"
   ]
  },
  {
   "cell_type": "code",
   "execution_count": null,
   "metadata": {},
   "outputs": [],
   "source": [
    "villagers.sort_values([\"tier\",\"rank\"], inplace=True)\n",
    "villagers[\"rank\"] = np.arange(1,villagers.shape[0]+1)"
   ]
  },
  {
   "cell_type": "markdown",
   "metadata": {},
   "source": [
    "# Saving to CSV"
   ]
  },
  {
   "cell_type": "code",
   "execution_count": null,
   "metadata": {},
   "outputs": [],
   "source": [
    "anch.to_csv(\"data/acnh_villager.csv\")\n",
    "compatibility_matrix.to_csv(\"data/compatibility_villagers.csv\")\n",
    "villagers_compatibility.to_csv(\"data/compatibility_matrix.csv\")"
   ]
  }
 ],
 "metadata": {
  "language_info": {
   "name": "python"
  },
  "orig_nbformat": 4
 },
 "nbformat": 4,
 "nbformat_minor": 2
}
