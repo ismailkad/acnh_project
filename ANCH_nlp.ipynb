{
  "nbformat": 4,
  "nbformat_minor": 0,
  "metadata": {
    "colab": {
      "name": "Animal Crossing Review NLP",
      "provenance": [],
      "collapsed_sections": []
    },
    "kernelspec": {
      "name": "python3",
      "display_name": "Python 3"
    },
    "language_info": {
      "name": "python"
    }
  },
  "cells": [
    {
      "cell_type": "markdown",
      "source": [
        "# Initialisation"
      ],
      "metadata": {
        "id": "MyOSyR05oAch"
      }
    },
    {
      "cell_type": "code",
      "execution_count": null,
      "metadata": {
        "id": "ihDHx3HemRaV",
        "colab": {
          "base_uri": "https://localhost:8080/"
        },
        "outputId": "2653b304-53fc-4774-d068-03fefa2eb344"
      },
      "outputs": [
        {
          "output_type": "stream",
          "name": "stdout",
          "text": [
            "[nltk_data] Downloading package stopwords to /root/nltk_data...\n",
            "[nltk_data]   Package stopwords is already up-to-date!\n",
            "[nltk_data] Downloading package punkt to /root/nltk_data...\n",
            "[nltk_data]   Package punkt is already up-to-date!\n",
            "[nltk_data] Downloading package vader_lexicon to /root/nltk_data...\n",
            "[nltk_data]   Package vader_lexicon is already up-to-date!\n"
          ]
        }
      ],
      "source": [
        "import nltk\n",
        "from nltk import Text\n",
        "from nltk.tokenize import sent_tokenize, word_tokenize\n",
        "from nltk.corpus import stopwords, reuters\n",
        "from nltk.stem.wordnet import WordNetLemmatizer\n",
        "from nltk.sentiment import SentimentIntensityAnalyzer\n",
        "from nltk import FreqDist\n",
        "import pandas as pd\n",
        "import seaborn as sns\n",
        "import matplotlib.pyplot as plt\n",
        "nltk.download('stopwords')\n",
        "nltk.download('punkt')\n",
        "nltk.download('vader_lexicon')\n",
        "stop_words = set(stopwords.words(\"english\"))\n",
        "sia = SentimentIntensityAnalyzer()"
      ]
    },
    {
      "cell_type": "markdown",
      "source": [
        "Récupération des données."
      ],
      "metadata": {
        "id": "_aQ-nywyoGjk"
      }
    },
    {
      "cell_type": "code",
      "source": [
        "user_reviews = pd.read_table('https://raw.githubusercontent.com/rfordatascience/tidytuesday/master/data/2020/2020-05-05/user_reviews.tsv')\n",
        "critic = pd.read_table('https://raw.githubusercontent.com/rfordatascience/tidytuesday/master/data/2020/2020-05-05/critic.tsv')"
      ],
      "metadata": {
        "id": "V3U3m-xTn_zK"
      },
      "execution_count": null,
      "outputs": []
    },
    {
      "cell_type": "markdown",
      "source": [
        "Voici les deux tables récupérées : "
      ],
      "metadata": {
        "id": "A8VyIuOQoXY-"
      }
    },
    {
      "cell_type": "code",
      "source": [
        "user_reviews"
      ],
      "metadata": {
        "colab": {
          "base_uri": "https://localhost:8080/",
          "height": 424
        },
        "id": "2Qaaa5kQoZwe",
        "outputId": "ea21aabb-fa97-44fa-bafc-92e011d06221"
      },
      "execution_count": null,
      "outputs": [
        {
          "output_type": "execute_result",
          "data": {
            "text/plain": [
              "      grade        user_name  \\\n",
              "0         4         mds27272   \n",
              "1         5         lolo2178   \n",
              "2         0         Roachant   \n",
              "3         0           Houndf   \n",
              "4         0     ProfessorFox   \n",
              "...     ...              ...   \n",
              "2994      1    TakezoShinmen   \n",
              "2995      1          Pikey17   \n",
              "2996      0        Lemmeadem   \n",
              "2997      2  TandemTester938   \n",
              "2998      4            DwerG   \n",
              "\n",
              "                                                   text        date  \n",
              "0     My gf started playing before me. No option to ...  2020-03-20  \n",
              "1     While the game itself is great, really relaxin...  2020-03-20  \n",
              "2     My wife and I were looking forward to playing ...  2020-03-20  \n",
              "3     We need equal values and opportunities for all...  2020-03-20  \n",
              "4     BEWARE!  If you have multiple people in your h...  2020-03-20  \n",
              "...                                                 ...         ...  \n",
              "2994  1 Island for console limitation.I cannot play ...  2020-05-03  \n",
              "2995  Per giocare con figli o fidanzate, mogli o per...  2020-05-03  \n",
              "2996  One island per console is a pathetic limitatio...  2020-05-03  \n",
              "2997  Even though it seems like a great game with ma...  2020-05-03  \n",
              "2998  Game is fantastic.Nintendo deciding that you c...  2020-05-03  \n",
              "\n",
              "[2999 rows x 4 columns]"
            ],
            "text/html": [
              "\n",
              "  <div id=\"df-fb390c81-9228-4277-bc8d-7a5fa3194e9d\">\n",
              "    <div class=\"colab-df-container\">\n",
              "      <div>\n",
              "<style scoped>\n",
              "    .dataframe tbody tr th:only-of-type {\n",
              "        vertical-align: middle;\n",
              "    }\n",
              "\n",
              "    .dataframe tbody tr th {\n",
              "        vertical-align: top;\n",
              "    }\n",
              "\n",
              "    .dataframe thead th {\n",
              "        text-align: right;\n",
              "    }\n",
              "</style>\n",
              "<table border=\"1\" class=\"dataframe\">\n",
              "  <thead>\n",
              "    <tr style=\"text-align: right;\">\n",
              "      <th></th>\n",
              "      <th>grade</th>\n",
              "      <th>user_name</th>\n",
              "      <th>text</th>\n",
              "      <th>date</th>\n",
              "    </tr>\n",
              "  </thead>\n",
              "  <tbody>\n",
              "    <tr>\n",
              "      <th>0</th>\n",
              "      <td>4</td>\n",
              "      <td>mds27272</td>\n",
              "      <td>My gf started playing before me. No option to ...</td>\n",
              "      <td>2020-03-20</td>\n",
              "    </tr>\n",
              "    <tr>\n",
              "      <th>1</th>\n",
              "      <td>5</td>\n",
              "      <td>lolo2178</td>\n",
              "      <td>While the game itself is great, really relaxin...</td>\n",
              "      <td>2020-03-20</td>\n",
              "    </tr>\n",
              "    <tr>\n",
              "      <th>2</th>\n",
              "      <td>0</td>\n",
              "      <td>Roachant</td>\n",
              "      <td>My wife and I were looking forward to playing ...</td>\n",
              "      <td>2020-03-20</td>\n",
              "    </tr>\n",
              "    <tr>\n",
              "      <th>3</th>\n",
              "      <td>0</td>\n",
              "      <td>Houndf</td>\n",
              "      <td>We need equal values and opportunities for all...</td>\n",
              "      <td>2020-03-20</td>\n",
              "    </tr>\n",
              "    <tr>\n",
              "      <th>4</th>\n",
              "      <td>0</td>\n",
              "      <td>ProfessorFox</td>\n",
              "      <td>BEWARE!  If you have multiple people in your h...</td>\n",
              "      <td>2020-03-20</td>\n",
              "    </tr>\n",
              "    <tr>\n",
              "      <th>...</th>\n",
              "      <td>...</td>\n",
              "      <td>...</td>\n",
              "      <td>...</td>\n",
              "      <td>...</td>\n",
              "    </tr>\n",
              "    <tr>\n",
              "      <th>2994</th>\n",
              "      <td>1</td>\n",
              "      <td>TakezoShinmen</td>\n",
              "      <td>1 Island for console limitation.I cannot play ...</td>\n",
              "      <td>2020-05-03</td>\n",
              "    </tr>\n",
              "    <tr>\n",
              "      <th>2995</th>\n",
              "      <td>1</td>\n",
              "      <td>Pikey17</td>\n",
              "      <td>Per giocare con figli o fidanzate, mogli o per...</td>\n",
              "      <td>2020-05-03</td>\n",
              "    </tr>\n",
              "    <tr>\n",
              "      <th>2996</th>\n",
              "      <td>0</td>\n",
              "      <td>Lemmeadem</td>\n",
              "      <td>One island per console is a pathetic limitatio...</td>\n",
              "      <td>2020-05-03</td>\n",
              "    </tr>\n",
              "    <tr>\n",
              "      <th>2997</th>\n",
              "      <td>2</td>\n",
              "      <td>TandemTester938</td>\n",
              "      <td>Even though it seems like a great game with ma...</td>\n",
              "      <td>2020-05-03</td>\n",
              "    </tr>\n",
              "    <tr>\n",
              "      <th>2998</th>\n",
              "      <td>4</td>\n",
              "      <td>DwerG</td>\n",
              "      <td>Game is fantastic.Nintendo deciding that you c...</td>\n",
              "      <td>2020-05-03</td>\n",
              "    </tr>\n",
              "  </tbody>\n",
              "</table>\n",
              "<p>2999 rows × 4 columns</p>\n",
              "</div>\n",
              "      <button class=\"colab-df-convert\" onclick=\"convertToInteractive('df-fb390c81-9228-4277-bc8d-7a5fa3194e9d')\"\n",
              "              title=\"Convert this dataframe to an interactive table.\"\n",
              "              style=\"display:none;\">\n",
              "        \n",
              "  <svg xmlns=\"http://www.w3.org/2000/svg\" height=\"24px\"viewBox=\"0 0 24 24\"\n",
              "       width=\"24px\">\n",
              "    <path d=\"M0 0h24v24H0V0z\" fill=\"none\"/>\n",
              "    <path d=\"M18.56 5.44l.94 2.06.94-2.06 2.06-.94-2.06-.94-.94-2.06-.94 2.06-2.06.94zm-11 1L8.5 8.5l.94-2.06 2.06-.94-2.06-.94L8.5 2.5l-.94 2.06-2.06.94zm10 10l.94 2.06.94-2.06 2.06-.94-2.06-.94-.94-2.06-.94 2.06-2.06.94z\"/><path d=\"M17.41 7.96l-1.37-1.37c-.4-.4-.92-.59-1.43-.59-.52 0-1.04.2-1.43.59L10.3 9.45l-7.72 7.72c-.78.78-.78 2.05 0 2.83L4 21.41c.39.39.9.59 1.41.59.51 0 1.02-.2 1.41-.59l7.78-7.78 2.81-2.81c.8-.78.8-2.07 0-2.86zM5.41 20L4 18.59l7.72-7.72 1.47 1.35L5.41 20z\"/>\n",
              "  </svg>\n",
              "      </button>\n",
              "      \n",
              "  <style>\n",
              "    .colab-df-container {\n",
              "      display:flex;\n",
              "      flex-wrap:wrap;\n",
              "      gap: 12px;\n",
              "    }\n",
              "\n",
              "    .colab-df-convert {\n",
              "      background-color: #E8F0FE;\n",
              "      border: none;\n",
              "      border-radius: 50%;\n",
              "      cursor: pointer;\n",
              "      display: none;\n",
              "      fill: #1967D2;\n",
              "      height: 32px;\n",
              "      padding: 0 0 0 0;\n",
              "      width: 32px;\n",
              "    }\n",
              "\n",
              "    .colab-df-convert:hover {\n",
              "      background-color: #E2EBFA;\n",
              "      box-shadow: 0px 1px 2px rgba(60, 64, 67, 0.3), 0px 1px 3px 1px rgba(60, 64, 67, 0.15);\n",
              "      fill: #174EA6;\n",
              "    }\n",
              "\n",
              "    [theme=dark] .colab-df-convert {\n",
              "      background-color: #3B4455;\n",
              "      fill: #D2E3FC;\n",
              "    }\n",
              "\n",
              "    [theme=dark] .colab-df-convert:hover {\n",
              "      background-color: #434B5C;\n",
              "      box-shadow: 0px 1px 3px 1px rgba(0, 0, 0, 0.15);\n",
              "      filter: drop-shadow(0px 1px 2px rgba(0, 0, 0, 0.3));\n",
              "      fill: #FFFFFF;\n",
              "    }\n",
              "  </style>\n",
              "\n",
              "      <script>\n",
              "        const buttonEl =\n",
              "          document.querySelector('#df-fb390c81-9228-4277-bc8d-7a5fa3194e9d button.colab-df-convert');\n",
              "        buttonEl.style.display =\n",
              "          google.colab.kernel.accessAllowed ? 'block' : 'none';\n",
              "\n",
              "        async function convertToInteractive(key) {\n",
              "          const element = document.querySelector('#df-fb390c81-9228-4277-bc8d-7a5fa3194e9d');\n",
              "          const dataTable =\n",
              "            await google.colab.kernel.invokeFunction('convertToInteractive',\n",
              "                                                     [key], {});\n",
              "          if (!dataTable) return;\n",
              "\n",
              "          const docLinkHtml = 'Like what you see? Visit the ' +\n",
              "            '<a target=\"_blank\" href=https://colab.research.google.com/notebooks/data_table.ipynb>data table notebook</a>'\n",
              "            + ' to learn more about interactive tables.';\n",
              "          element.innerHTML = '';\n",
              "          dataTable['output_type'] = 'display_data';\n",
              "          await google.colab.output.renderOutput(dataTable, element);\n",
              "          const docLink = document.createElement('div');\n",
              "          docLink.innerHTML = docLinkHtml;\n",
              "          element.appendChild(docLink);\n",
              "        }\n",
              "      </script>\n",
              "    </div>\n",
              "  </div>\n",
              "  "
            ]
          },
          "metadata": {},
          "execution_count": 26
        }
      ]
    },
    {
      "cell_type": "code",
      "source": [
        "critic"
      ],
      "metadata": {
        "colab": {
          "base_uri": "https://localhost:8080/",
          "height": 424
        },
        "id": "YwZuUF01ocrN",
        "outputId": "62722ab7-d573-4b46-80a5-29b8ac7c4de5"
      },
      "execution_count": null,
      "outputs": [
        {
          "output_type": "execute_result",
          "data": {
            "text/plain": [
              "     grade       publication  \\\n",
              "0      100   Pocket Gamer UK   \n",
              "1      100            Forbes   \n",
              "2      100         Telegraph   \n",
              "3      100             VG247   \n",
              "4      100  Nintendo Insider   \n",
              "..     ...               ...   \n",
              "102     90      Impulsegamer   \n",
              "103     90        PLAY! Zine   \n",
              "104     95          GameGrin   \n",
              "105     90       NF Magazine   \n",
              "106     80             PCMag   \n",
              "\n",
              "                                                  text        date  \n",
              "0    Animal Crossing; New Horizons, much like its p...  2020-03-16  \n",
              "1    Know that if you’re overwhelmed with the world...  2020-03-16  \n",
              "2    With a game this broad and lengthy, there’s mo...  2020-03-16  \n",
              "3    Animal Crossing: New Horizons is everything I ...  2020-03-16  \n",
              "4    Above all else, Animal Crossing: New Horizons ...  2020-03-16  \n",
              "..                                                 ...         ...  \n",
              "102  Animal Crossing New Horizons is pure fun and p...  2020-04-16  \n",
              "103  Animal Crossing: New Horizons is a definitive ...  2020-04-17  \n",
              "104  New Horizons is simply the best Animal Crossin...  2020-04-22  \n",
              "105  I can't wait to see what the future will hold....  2020-05-01  \n",
              "106  Animal Crossing: New Horizons brings the most ...  2020-05-01  \n",
              "\n",
              "[107 rows x 4 columns]"
            ],
            "text/html": [
              "\n",
              "  <div id=\"df-9743080a-02c7-41db-a836-453ebe1eec1b\">\n",
              "    <div class=\"colab-df-container\">\n",
              "      <div>\n",
              "<style scoped>\n",
              "    .dataframe tbody tr th:only-of-type {\n",
              "        vertical-align: middle;\n",
              "    }\n",
              "\n",
              "    .dataframe tbody tr th {\n",
              "        vertical-align: top;\n",
              "    }\n",
              "\n",
              "    .dataframe thead th {\n",
              "        text-align: right;\n",
              "    }\n",
              "</style>\n",
              "<table border=\"1\" class=\"dataframe\">\n",
              "  <thead>\n",
              "    <tr style=\"text-align: right;\">\n",
              "      <th></th>\n",
              "      <th>grade</th>\n",
              "      <th>publication</th>\n",
              "      <th>text</th>\n",
              "      <th>date</th>\n",
              "    </tr>\n",
              "  </thead>\n",
              "  <tbody>\n",
              "    <tr>\n",
              "      <th>0</th>\n",
              "      <td>100</td>\n",
              "      <td>Pocket Gamer UK</td>\n",
              "      <td>Animal Crossing; New Horizons, much like its p...</td>\n",
              "      <td>2020-03-16</td>\n",
              "    </tr>\n",
              "    <tr>\n",
              "      <th>1</th>\n",
              "      <td>100</td>\n",
              "      <td>Forbes</td>\n",
              "      <td>Know that if you’re overwhelmed with the world...</td>\n",
              "      <td>2020-03-16</td>\n",
              "    </tr>\n",
              "    <tr>\n",
              "      <th>2</th>\n",
              "      <td>100</td>\n",
              "      <td>Telegraph</td>\n",
              "      <td>With a game this broad and lengthy, there’s mo...</td>\n",
              "      <td>2020-03-16</td>\n",
              "    </tr>\n",
              "    <tr>\n",
              "      <th>3</th>\n",
              "      <td>100</td>\n",
              "      <td>VG247</td>\n",
              "      <td>Animal Crossing: New Horizons is everything I ...</td>\n",
              "      <td>2020-03-16</td>\n",
              "    </tr>\n",
              "    <tr>\n",
              "      <th>4</th>\n",
              "      <td>100</td>\n",
              "      <td>Nintendo Insider</td>\n",
              "      <td>Above all else, Animal Crossing: New Horizons ...</td>\n",
              "      <td>2020-03-16</td>\n",
              "    </tr>\n",
              "    <tr>\n",
              "      <th>...</th>\n",
              "      <td>...</td>\n",
              "      <td>...</td>\n",
              "      <td>...</td>\n",
              "      <td>...</td>\n",
              "    </tr>\n",
              "    <tr>\n",
              "      <th>102</th>\n",
              "      <td>90</td>\n",
              "      <td>Impulsegamer</td>\n",
              "      <td>Animal Crossing New Horizons is pure fun and p...</td>\n",
              "      <td>2020-04-16</td>\n",
              "    </tr>\n",
              "    <tr>\n",
              "      <th>103</th>\n",
              "      <td>90</td>\n",
              "      <td>PLAY! Zine</td>\n",
              "      <td>Animal Crossing: New Horizons is a definitive ...</td>\n",
              "      <td>2020-04-17</td>\n",
              "    </tr>\n",
              "    <tr>\n",
              "      <th>104</th>\n",
              "      <td>95</td>\n",
              "      <td>GameGrin</td>\n",
              "      <td>New Horizons is simply the best Animal Crossin...</td>\n",
              "      <td>2020-04-22</td>\n",
              "    </tr>\n",
              "    <tr>\n",
              "      <th>105</th>\n",
              "      <td>90</td>\n",
              "      <td>NF Magazine</td>\n",
              "      <td>I can't wait to see what the future will hold....</td>\n",
              "      <td>2020-05-01</td>\n",
              "    </tr>\n",
              "    <tr>\n",
              "      <th>106</th>\n",
              "      <td>80</td>\n",
              "      <td>PCMag</td>\n",
              "      <td>Animal Crossing: New Horizons brings the most ...</td>\n",
              "      <td>2020-05-01</td>\n",
              "    </tr>\n",
              "  </tbody>\n",
              "</table>\n",
              "<p>107 rows × 4 columns</p>\n",
              "</div>\n",
              "      <button class=\"colab-df-convert\" onclick=\"convertToInteractive('df-9743080a-02c7-41db-a836-453ebe1eec1b')\"\n",
              "              title=\"Convert this dataframe to an interactive table.\"\n",
              "              style=\"display:none;\">\n",
              "        \n",
              "  <svg xmlns=\"http://www.w3.org/2000/svg\" height=\"24px\"viewBox=\"0 0 24 24\"\n",
              "       width=\"24px\">\n",
              "    <path d=\"M0 0h24v24H0V0z\" fill=\"none\"/>\n",
              "    <path d=\"M18.56 5.44l.94 2.06.94-2.06 2.06-.94-2.06-.94-.94-2.06-.94 2.06-2.06.94zm-11 1L8.5 8.5l.94-2.06 2.06-.94-2.06-.94L8.5 2.5l-.94 2.06-2.06.94zm10 10l.94 2.06.94-2.06 2.06-.94-2.06-.94-.94-2.06-.94 2.06-2.06.94z\"/><path d=\"M17.41 7.96l-1.37-1.37c-.4-.4-.92-.59-1.43-.59-.52 0-1.04.2-1.43.59L10.3 9.45l-7.72 7.72c-.78.78-.78 2.05 0 2.83L4 21.41c.39.39.9.59 1.41.59.51 0 1.02-.2 1.41-.59l7.78-7.78 2.81-2.81c.8-.78.8-2.07 0-2.86zM5.41 20L4 18.59l7.72-7.72 1.47 1.35L5.41 20z\"/>\n",
              "  </svg>\n",
              "      </button>\n",
              "      \n",
              "  <style>\n",
              "    .colab-df-container {\n",
              "      display:flex;\n",
              "      flex-wrap:wrap;\n",
              "      gap: 12px;\n",
              "    }\n",
              "\n",
              "    .colab-df-convert {\n",
              "      background-color: #E8F0FE;\n",
              "      border: none;\n",
              "      border-radius: 50%;\n",
              "      cursor: pointer;\n",
              "      display: none;\n",
              "      fill: #1967D2;\n",
              "      height: 32px;\n",
              "      padding: 0 0 0 0;\n",
              "      width: 32px;\n",
              "    }\n",
              "\n",
              "    .colab-df-convert:hover {\n",
              "      background-color: #E2EBFA;\n",
              "      box-shadow: 0px 1px 2px rgba(60, 64, 67, 0.3), 0px 1px 3px 1px rgba(60, 64, 67, 0.15);\n",
              "      fill: #174EA6;\n",
              "    }\n",
              "\n",
              "    [theme=dark] .colab-df-convert {\n",
              "      background-color: #3B4455;\n",
              "      fill: #D2E3FC;\n",
              "    }\n",
              "\n",
              "    [theme=dark] .colab-df-convert:hover {\n",
              "      background-color: #434B5C;\n",
              "      box-shadow: 0px 1px 3px 1px rgba(0, 0, 0, 0.15);\n",
              "      filter: drop-shadow(0px 1px 2px rgba(0, 0, 0, 0.3));\n",
              "      fill: #FFFFFF;\n",
              "    }\n",
              "  </style>\n",
              "\n",
              "      <script>\n",
              "        const buttonEl =\n",
              "          document.querySelector('#df-9743080a-02c7-41db-a836-453ebe1eec1b button.colab-df-convert');\n",
              "        buttonEl.style.display =\n",
              "          google.colab.kernel.accessAllowed ? 'block' : 'none';\n",
              "\n",
              "        async function convertToInteractive(key) {\n",
              "          const element = document.querySelector('#df-9743080a-02c7-41db-a836-453ebe1eec1b');\n",
              "          const dataTable =\n",
              "            await google.colab.kernel.invokeFunction('convertToInteractive',\n",
              "                                                     [key], {});\n",
              "          if (!dataTable) return;\n",
              "\n",
              "          const docLinkHtml = 'Like what you see? Visit the ' +\n",
              "            '<a target=\"_blank\" href=https://colab.research.google.com/notebooks/data_table.ipynb>data table notebook</a>'\n",
              "            + ' to learn more about interactive tables.';\n",
              "          element.innerHTML = '';\n",
              "          dataTable['output_type'] = 'display_data';\n",
              "          await google.colab.output.renderOutput(dataTable, element);\n",
              "          const docLink = document.createElement('div');\n",
              "          docLink.innerHTML = docLinkHtml;\n",
              "          element.appendChild(docLink);\n",
              "        }\n",
              "      </script>\n",
              "    </div>\n",
              "  </div>\n",
              "  "
            ]
          },
          "metadata": {},
          "execution_count": 27
        }
      ]
    },
    {
      "cell_type": "markdown",
      "source": [
        "# Fonctions utiles"
      ],
      "metadata": {
        "id": "vF6Y4goaov2y"
      }
    },
    {
      "cell_type": "code",
      "source": [
        "def tokenizeReview(text) : \n",
        "  raw_tokens = word_tokenize(text)\n",
        "  tokens = []\n",
        "  for i in range(0,len(raw_tokens)-1) :\n",
        "    if len(raw_tokens[i]) > 2 and raw_tokens[i] not in stop_words : \n",
        "      tokens.append(raw_tokens[i].lower())\n",
        "  return tokens"
      ],
      "metadata": {
        "id": "J8OatYO5ovOg"
      },
      "execution_count": null,
      "outputs": []
    },
    {
      "cell_type": "code",
      "source": [
        "def returnWordCount(tokens) :\n",
        "  return nltk.FreqDist(tokens)"
      ],
      "metadata": {
        "id": "qbHZ4RA3p5nm"
      },
      "execution_count": null,
      "outputs": []
    },
    {
      "cell_type": "code",
      "source": [
        "def returnMostCommon(number, tokens) :\n",
        "  count = nltk.FreqDist(tokens)\n",
        "  return count.most_common(number)"
      ],
      "metadata": {
        "id": "ULOu9hAmvHYj"
      },
      "execution_count": null,
      "outputs": []
    },
    {
      "cell_type": "code",
      "source": [
        "def returnMostCommonDict(number, tokens, grade, sentiment) :\n",
        "  count = returnMostCommon(number,tokens)\n",
        "  keys = []\n",
        "  values = []\n",
        "  grade = [grade for i in range(number)]\n",
        "  sentiment = [sentiment for i in range(number)]\n",
        "  for word in count : \n",
        "    keys.append(word[0])\n",
        "    values.append(word[1])\n",
        "  return {'word' : keys, 'count' : values, 'grade' : grade, 'sentiment' : sentiment}"
      ],
      "metadata": {
        "id": "nC86v34M0dqv"
      },
      "execution_count": null,
      "outputs": []
    },
    {
      "cell_type": "code",
      "source": [
        "def returnMostCommonDF(number, tokens) :\n",
        "  return pd.DataFrame(returnMostCommonDict(number,tokens))"
      ],
      "metadata": {
        "id": "PqislKHOJmN8"
      },
      "execution_count": null,
      "outputs": []
    },
    {
      "cell_type": "code",
      "source": [
        "def filterReviews(grade : int, user_reviews):\n",
        "  user_reviews_filtered = user_reviews[user_reviews[\"grade\"] == grade]\n",
        "  return user_reviews_filtered"
      ],
      "metadata": {
        "id": "m79Q0_nvr17I"
      },
      "execution_count": null,
      "outputs": []
    },
    {
      "cell_type": "code",
      "source": [
        "def getGradeReviewsTokens(grade : int, user_reviews) : \n",
        "  global_review_token_list = []\n",
        "  filtered_reviews = filterReviews(grade, user_reviews)\n",
        "  for review in filtered_reviews[\"text\"] : \n",
        "    sentiment = sia.polarity_scores(review)[\"compound\"]\n",
        "    review_tokens = tokenizeReview(review)\n",
        "    global_review_token_list.extend(review_tokens)\n",
        "  return global_review_token_list, sentiment"
      ],
      "metadata": {
        "id": "SdRSahnCwuel"
      },
      "execution_count": null,
      "outputs": []
    },
    {
      "cell_type": "code",
      "source": [
        "#MostCommonWordDistribution\n",
        "def MCWD(number, user_reviews) : \n",
        "  distribution = []\n",
        "  for grade in range(1,11) : \n",
        "    words, sentiment = getGradeReviewsTokens(grade,user_reviews)\n",
        "    most_common_words = returnMostCommonDict(number,words,grade)\n",
        "    for word in most_common_words : \n",
        "      if word in distribution : \n",
        "        distribution[word] += most_common_words[word]\n",
        "      else : \n",
        "        distribution[word] = most_common_words[word]\n",
        "  return distribution"
      ],
      "metadata": {
        "id": "mFztOSug31Al"
      },
      "execution_count": null,
      "outputs": []
    },
    {
      "cell_type": "code",
      "source": [
        "#MostCommonWordDistributionByGrade\n",
        "def MCWDBG(number, user_reviews) : \n",
        "  distribution = []\n",
        "  for grade in range(11) : \n",
        "    words, sentiment = getGradeReviewsTokens(grade,user_reviews)\n",
        "    distribution.append(returnMostCommonDict(number,words, grade, sentiment))\n",
        "  return distribution"
      ],
      "metadata": {
        "id": "MZVZ0grG5a3S"
      },
      "execution_count": null,
      "outputs": []
    },
    {
      "cell_type": "code",
      "source": [
        "def mergeDictKeys(dict_list) : \n",
        "  count_list = []\n",
        "  word_list = []\n",
        "  grade_list = []\n",
        "  sentiment_list=[]\n",
        "  for element in dict_list :\n",
        "    count_list.extend(element[\"count\"])\n",
        "    word_list.extend(element[\"word\"])\n",
        "    grade_list.extend(element[\"grade\"])\n",
        "    sentiment_list.extend(element[\"sentiment\"])\n",
        "  return {'word' : word_list, 'count' : count_list, 'grade' : grade_list, 'sentiment' : sentiment_list}"
      ],
      "metadata": {
        "id": "LcWmxFjMMxKu"
      },
      "execution_count": null,
      "outputs": []
    },
    {
      "cell_type": "markdown",
      "source": [
        "# Quelques Données"
      ],
      "metadata": {
        "id": "yZmq6MGEya8X"
      }
    },
    {
      "cell_type": "code",
      "source": [
        "count = MCWDBG(5,user_reviews)\n",
        "word_count_by_grade = pd.DataFrame(mergeDictKeys(count))"
      ],
      "metadata": {
        "id": "8pdXeXI0JJyp"
      },
      "execution_count": null,
      "outputs": []
    },
    {
      "cell_type": "code",
      "source": [
        "word_count_by_grade"
      ],
      "metadata": {
        "id": "KdwL-h5g0txC",
        "colab": {
          "base_uri": "https://localhost:8080/",
          "height": 1000
        },
        "outputId": "a6a82feb-9897-480a-f488-1b6ef3c83392"
      },
      "execution_count": null,
      "outputs": [
        {
          "output_type": "execute_result",
          "data": {
            "text/plain": [
              "        word  count  grade  sentiment\n",
              "0       game   2958      0    -0.3612\n",
              "1     island   1765      0    -0.3612\n",
              "2        one   1404      0    -0.3612\n",
              "3     switch   1044      0    -0.3612\n",
              "4       play   1018      0    -0.3612\n",
              "5       game    887      1     0.3182\n",
              "6     island    402      1     0.3182\n",
              "7        one    298      1     0.3182\n",
              "8       play    283      1     0.3182\n",
              "9        n't    249      1     0.3182\n",
              "10      game    548      2     0.8522\n",
              "11    island    222      2     0.8522\n",
              "12       n't    179      2     0.8522\n",
              "13       one    176      2     0.8522\n",
              "14    player    162      2     0.8522\n",
              "15      game    391      3     0.5579\n",
              "16    island    170      3     0.5579\n",
              "17       one    121      3     0.5579\n",
              "18       n't     99      3     0.5579\n",
              "19      play     93      3     0.5579\n",
              "20      game    396      4    -0.3089\n",
              "21    island    189      4    -0.3089\n",
              "22       one    141      4    -0.3089\n",
              "23       n't    126      4    -0.3089\n",
              "24      play    109      4    -0.3089\n",
              "25      game    358      5     0.9803\n",
              "26       n't    143      5     0.9803\n",
              "27    island    128      5     0.9803\n",
              "28       one    111      5     0.9803\n",
              "29    switch     98      5     0.9803\n",
              "30      game    206      6    -0.9727\n",
              "31    island     85      6    -0.9727\n",
              "32       the     61      6    -0.9727\n",
              "33      like     60      6    -0.9727\n",
              "34       one     60      6    -0.9727\n",
              "35      game    137      7     0.9822\n",
              "36    island     52      7     0.9822\n",
              "37      like     49      7     0.9822\n",
              "38       n't     49      7     0.9822\n",
              "39  crossing     41      7     0.9822\n",
              "40      game    334      8     0.9988\n",
              "41    island    125      8     0.9988\n",
              "42       n't    110      8     0.9988\n",
              "43       one    100      8     0.9988\n",
              "44       new     91      8     0.9988\n",
              "45      game    795      9     0.0772\n",
              "46    island    298      9     0.0772\n",
              "47       one    288      9     0.0772\n",
              "48       n't    250      9     0.0772\n",
              "49       new    238      9     0.0772\n",
              "50      game   1660     10     0.0000\n",
              "51    island    477     10     0.0000\n",
              "52  crossing    463     10     0.0000\n",
              "53    animal    458     10     0.0000\n",
              "54       one    454     10     0.0000"
            ],
            "text/html": [
              "\n",
              "  <div id=\"df-d739f48f-f2a8-4bf3-b5df-93876335532c\">\n",
              "    <div class=\"colab-df-container\">\n",
              "      <div>\n",
              "<style scoped>\n",
              "    .dataframe tbody tr th:only-of-type {\n",
              "        vertical-align: middle;\n",
              "    }\n",
              "\n",
              "    .dataframe tbody tr th {\n",
              "        vertical-align: top;\n",
              "    }\n",
              "\n",
              "    .dataframe thead th {\n",
              "        text-align: right;\n",
              "    }\n",
              "</style>\n",
              "<table border=\"1\" class=\"dataframe\">\n",
              "  <thead>\n",
              "    <tr style=\"text-align: right;\">\n",
              "      <th></th>\n",
              "      <th>word</th>\n",
              "      <th>count</th>\n",
              "      <th>grade</th>\n",
              "      <th>sentiment</th>\n",
              "    </tr>\n",
              "  </thead>\n",
              "  <tbody>\n",
              "    <tr>\n",
              "      <th>0</th>\n",
              "      <td>game</td>\n",
              "      <td>2958</td>\n",
              "      <td>0</td>\n",
              "      <td>-0.3612</td>\n",
              "    </tr>\n",
              "    <tr>\n",
              "      <th>1</th>\n",
              "      <td>island</td>\n",
              "      <td>1765</td>\n",
              "      <td>0</td>\n",
              "      <td>-0.3612</td>\n",
              "    </tr>\n",
              "    <tr>\n",
              "      <th>2</th>\n",
              "      <td>one</td>\n",
              "      <td>1404</td>\n",
              "      <td>0</td>\n",
              "      <td>-0.3612</td>\n",
              "    </tr>\n",
              "    <tr>\n",
              "      <th>3</th>\n",
              "      <td>switch</td>\n",
              "      <td>1044</td>\n",
              "      <td>0</td>\n",
              "      <td>-0.3612</td>\n",
              "    </tr>\n",
              "    <tr>\n",
              "      <th>4</th>\n",
              "      <td>play</td>\n",
              "      <td>1018</td>\n",
              "      <td>0</td>\n",
              "      <td>-0.3612</td>\n",
              "    </tr>\n",
              "    <tr>\n",
              "      <th>5</th>\n",
              "      <td>game</td>\n",
              "      <td>887</td>\n",
              "      <td>1</td>\n",
              "      <td>0.3182</td>\n",
              "    </tr>\n",
              "    <tr>\n",
              "      <th>6</th>\n",
              "      <td>island</td>\n",
              "      <td>402</td>\n",
              "      <td>1</td>\n",
              "      <td>0.3182</td>\n",
              "    </tr>\n",
              "    <tr>\n",
              "      <th>7</th>\n",
              "      <td>one</td>\n",
              "      <td>298</td>\n",
              "      <td>1</td>\n",
              "      <td>0.3182</td>\n",
              "    </tr>\n",
              "    <tr>\n",
              "      <th>8</th>\n",
              "      <td>play</td>\n",
              "      <td>283</td>\n",
              "      <td>1</td>\n",
              "      <td>0.3182</td>\n",
              "    </tr>\n",
              "    <tr>\n",
              "      <th>9</th>\n",
              "      <td>n't</td>\n",
              "      <td>249</td>\n",
              "      <td>1</td>\n",
              "      <td>0.3182</td>\n",
              "    </tr>\n",
              "    <tr>\n",
              "      <th>10</th>\n",
              "      <td>game</td>\n",
              "      <td>548</td>\n",
              "      <td>2</td>\n",
              "      <td>0.8522</td>\n",
              "    </tr>\n",
              "    <tr>\n",
              "      <th>11</th>\n",
              "      <td>island</td>\n",
              "      <td>222</td>\n",
              "      <td>2</td>\n",
              "      <td>0.8522</td>\n",
              "    </tr>\n",
              "    <tr>\n",
              "      <th>12</th>\n",
              "      <td>n't</td>\n",
              "      <td>179</td>\n",
              "      <td>2</td>\n",
              "      <td>0.8522</td>\n",
              "    </tr>\n",
              "    <tr>\n",
              "      <th>13</th>\n",
              "      <td>one</td>\n",
              "      <td>176</td>\n",
              "      <td>2</td>\n",
              "      <td>0.8522</td>\n",
              "    </tr>\n",
              "    <tr>\n",
              "      <th>14</th>\n",
              "      <td>player</td>\n",
              "      <td>162</td>\n",
              "      <td>2</td>\n",
              "      <td>0.8522</td>\n",
              "    </tr>\n",
              "    <tr>\n",
              "      <th>15</th>\n",
              "      <td>game</td>\n",
              "      <td>391</td>\n",
              "      <td>3</td>\n",
              "      <td>0.5579</td>\n",
              "    </tr>\n",
              "    <tr>\n",
              "      <th>16</th>\n",
              "      <td>island</td>\n",
              "      <td>170</td>\n",
              "      <td>3</td>\n",
              "      <td>0.5579</td>\n",
              "    </tr>\n",
              "    <tr>\n",
              "      <th>17</th>\n",
              "      <td>one</td>\n",
              "      <td>121</td>\n",
              "      <td>3</td>\n",
              "      <td>0.5579</td>\n",
              "    </tr>\n",
              "    <tr>\n",
              "      <th>18</th>\n",
              "      <td>n't</td>\n",
              "      <td>99</td>\n",
              "      <td>3</td>\n",
              "      <td>0.5579</td>\n",
              "    </tr>\n",
              "    <tr>\n",
              "      <th>19</th>\n",
              "      <td>play</td>\n",
              "      <td>93</td>\n",
              "      <td>3</td>\n",
              "      <td>0.5579</td>\n",
              "    </tr>\n",
              "    <tr>\n",
              "      <th>20</th>\n",
              "      <td>game</td>\n",
              "      <td>396</td>\n",
              "      <td>4</td>\n",
              "      <td>-0.3089</td>\n",
              "    </tr>\n",
              "    <tr>\n",
              "      <th>21</th>\n",
              "      <td>island</td>\n",
              "      <td>189</td>\n",
              "      <td>4</td>\n",
              "      <td>-0.3089</td>\n",
              "    </tr>\n",
              "    <tr>\n",
              "      <th>22</th>\n",
              "      <td>one</td>\n",
              "      <td>141</td>\n",
              "      <td>4</td>\n",
              "      <td>-0.3089</td>\n",
              "    </tr>\n",
              "    <tr>\n",
              "      <th>23</th>\n",
              "      <td>n't</td>\n",
              "      <td>126</td>\n",
              "      <td>4</td>\n",
              "      <td>-0.3089</td>\n",
              "    </tr>\n",
              "    <tr>\n",
              "      <th>24</th>\n",
              "      <td>play</td>\n",
              "      <td>109</td>\n",
              "      <td>4</td>\n",
              "      <td>-0.3089</td>\n",
              "    </tr>\n",
              "    <tr>\n",
              "      <th>25</th>\n",
              "      <td>game</td>\n",
              "      <td>358</td>\n",
              "      <td>5</td>\n",
              "      <td>0.9803</td>\n",
              "    </tr>\n",
              "    <tr>\n",
              "      <th>26</th>\n",
              "      <td>n't</td>\n",
              "      <td>143</td>\n",
              "      <td>5</td>\n",
              "      <td>0.9803</td>\n",
              "    </tr>\n",
              "    <tr>\n",
              "      <th>27</th>\n",
              "      <td>island</td>\n",
              "      <td>128</td>\n",
              "      <td>5</td>\n",
              "      <td>0.9803</td>\n",
              "    </tr>\n",
              "    <tr>\n",
              "      <th>28</th>\n",
              "      <td>one</td>\n",
              "      <td>111</td>\n",
              "      <td>5</td>\n",
              "      <td>0.9803</td>\n",
              "    </tr>\n",
              "    <tr>\n",
              "      <th>29</th>\n",
              "      <td>switch</td>\n",
              "      <td>98</td>\n",
              "      <td>5</td>\n",
              "      <td>0.9803</td>\n",
              "    </tr>\n",
              "    <tr>\n",
              "      <th>30</th>\n",
              "      <td>game</td>\n",
              "      <td>206</td>\n",
              "      <td>6</td>\n",
              "      <td>-0.9727</td>\n",
              "    </tr>\n",
              "    <tr>\n",
              "      <th>31</th>\n",
              "      <td>island</td>\n",
              "      <td>85</td>\n",
              "      <td>6</td>\n",
              "      <td>-0.9727</td>\n",
              "    </tr>\n",
              "    <tr>\n",
              "      <th>32</th>\n",
              "      <td>the</td>\n",
              "      <td>61</td>\n",
              "      <td>6</td>\n",
              "      <td>-0.9727</td>\n",
              "    </tr>\n",
              "    <tr>\n",
              "      <th>33</th>\n",
              "      <td>like</td>\n",
              "      <td>60</td>\n",
              "      <td>6</td>\n",
              "      <td>-0.9727</td>\n",
              "    </tr>\n",
              "    <tr>\n",
              "      <th>34</th>\n",
              "      <td>one</td>\n",
              "      <td>60</td>\n",
              "      <td>6</td>\n",
              "      <td>-0.9727</td>\n",
              "    </tr>\n",
              "    <tr>\n",
              "      <th>35</th>\n",
              "      <td>game</td>\n",
              "      <td>137</td>\n",
              "      <td>7</td>\n",
              "      <td>0.9822</td>\n",
              "    </tr>\n",
              "    <tr>\n",
              "      <th>36</th>\n",
              "      <td>island</td>\n",
              "      <td>52</td>\n",
              "      <td>7</td>\n",
              "      <td>0.9822</td>\n",
              "    </tr>\n",
              "    <tr>\n",
              "      <th>37</th>\n",
              "      <td>like</td>\n",
              "      <td>49</td>\n",
              "      <td>7</td>\n",
              "      <td>0.9822</td>\n",
              "    </tr>\n",
              "    <tr>\n",
              "      <th>38</th>\n",
              "      <td>n't</td>\n",
              "      <td>49</td>\n",
              "      <td>7</td>\n",
              "      <td>0.9822</td>\n",
              "    </tr>\n",
              "    <tr>\n",
              "      <th>39</th>\n",
              "      <td>crossing</td>\n",
              "      <td>41</td>\n",
              "      <td>7</td>\n",
              "      <td>0.9822</td>\n",
              "    </tr>\n",
              "    <tr>\n",
              "      <th>40</th>\n",
              "      <td>game</td>\n",
              "      <td>334</td>\n",
              "      <td>8</td>\n",
              "      <td>0.9988</td>\n",
              "    </tr>\n",
              "    <tr>\n",
              "      <th>41</th>\n",
              "      <td>island</td>\n",
              "      <td>125</td>\n",
              "      <td>8</td>\n",
              "      <td>0.9988</td>\n",
              "    </tr>\n",
              "    <tr>\n",
              "      <th>42</th>\n",
              "      <td>n't</td>\n",
              "      <td>110</td>\n",
              "      <td>8</td>\n",
              "      <td>0.9988</td>\n",
              "    </tr>\n",
              "    <tr>\n",
              "      <th>43</th>\n",
              "      <td>one</td>\n",
              "      <td>100</td>\n",
              "      <td>8</td>\n",
              "      <td>0.9988</td>\n",
              "    </tr>\n",
              "    <tr>\n",
              "      <th>44</th>\n",
              "      <td>new</td>\n",
              "      <td>91</td>\n",
              "      <td>8</td>\n",
              "      <td>0.9988</td>\n",
              "    </tr>\n",
              "    <tr>\n",
              "      <th>45</th>\n",
              "      <td>game</td>\n",
              "      <td>795</td>\n",
              "      <td>9</td>\n",
              "      <td>0.0772</td>\n",
              "    </tr>\n",
              "    <tr>\n",
              "      <th>46</th>\n",
              "      <td>island</td>\n",
              "      <td>298</td>\n",
              "      <td>9</td>\n",
              "      <td>0.0772</td>\n",
              "    </tr>\n",
              "    <tr>\n",
              "      <th>47</th>\n",
              "      <td>one</td>\n",
              "      <td>288</td>\n",
              "      <td>9</td>\n",
              "      <td>0.0772</td>\n",
              "    </tr>\n",
              "    <tr>\n",
              "      <th>48</th>\n",
              "      <td>n't</td>\n",
              "      <td>250</td>\n",
              "      <td>9</td>\n",
              "      <td>0.0772</td>\n",
              "    </tr>\n",
              "    <tr>\n",
              "      <th>49</th>\n",
              "      <td>new</td>\n",
              "      <td>238</td>\n",
              "      <td>9</td>\n",
              "      <td>0.0772</td>\n",
              "    </tr>\n",
              "    <tr>\n",
              "      <th>50</th>\n",
              "      <td>game</td>\n",
              "      <td>1660</td>\n",
              "      <td>10</td>\n",
              "      <td>0.0000</td>\n",
              "    </tr>\n",
              "    <tr>\n",
              "      <th>51</th>\n",
              "      <td>island</td>\n",
              "      <td>477</td>\n",
              "      <td>10</td>\n",
              "      <td>0.0000</td>\n",
              "    </tr>\n",
              "    <tr>\n",
              "      <th>52</th>\n",
              "      <td>crossing</td>\n",
              "      <td>463</td>\n",
              "      <td>10</td>\n",
              "      <td>0.0000</td>\n",
              "    </tr>\n",
              "    <tr>\n",
              "      <th>53</th>\n",
              "      <td>animal</td>\n",
              "      <td>458</td>\n",
              "      <td>10</td>\n",
              "      <td>0.0000</td>\n",
              "    </tr>\n",
              "    <tr>\n",
              "      <th>54</th>\n",
              "      <td>one</td>\n",
              "      <td>454</td>\n",
              "      <td>10</td>\n",
              "      <td>0.0000</td>\n",
              "    </tr>\n",
              "  </tbody>\n",
              "</table>\n",
              "</div>\n",
              "      <button class=\"colab-df-convert\" onclick=\"convertToInteractive('df-d739f48f-f2a8-4bf3-b5df-93876335532c')\"\n",
              "              title=\"Convert this dataframe to an interactive table.\"\n",
              "              style=\"display:none;\">\n",
              "        \n",
              "  <svg xmlns=\"http://www.w3.org/2000/svg\" height=\"24px\"viewBox=\"0 0 24 24\"\n",
              "       width=\"24px\">\n",
              "    <path d=\"M0 0h24v24H0V0z\" fill=\"none\"/>\n",
              "    <path d=\"M18.56 5.44l.94 2.06.94-2.06 2.06-.94-2.06-.94-.94-2.06-.94 2.06-2.06.94zm-11 1L8.5 8.5l.94-2.06 2.06-.94-2.06-.94L8.5 2.5l-.94 2.06-2.06.94zm10 10l.94 2.06.94-2.06 2.06-.94-2.06-.94-.94-2.06-.94 2.06-2.06.94z\"/><path d=\"M17.41 7.96l-1.37-1.37c-.4-.4-.92-.59-1.43-.59-.52 0-1.04.2-1.43.59L10.3 9.45l-7.72 7.72c-.78.78-.78 2.05 0 2.83L4 21.41c.39.39.9.59 1.41.59.51 0 1.02-.2 1.41-.59l7.78-7.78 2.81-2.81c.8-.78.8-2.07 0-2.86zM5.41 20L4 18.59l7.72-7.72 1.47 1.35L5.41 20z\"/>\n",
              "  </svg>\n",
              "      </button>\n",
              "      \n",
              "  <style>\n",
              "    .colab-df-container {\n",
              "      display:flex;\n",
              "      flex-wrap:wrap;\n",
              "      gap: 12px;\n",
              "    }\n",
              "\n",
              "    .colab-df-convert {\n",
              "      background-color: #E8F0FE;\n",
              "      border: none;\n",
              "      border-radius: 50%;\n",
              "      cursor: pointer;\n",
              "      display: none;\n",
              "      fill: #1967D2;\n",
              "      height: 32px;\n",
              "      padding: 0 0 0 0;\n",
              "      width: 32px;\n",
              "    }\n",
              "\n",
              "    .colab-df-convert:hover {\n",
              "      background-color: #E2EBFA;\n",
              "      box-shadow: 0px 1px 2px rgba(60, 64, 67, 0.3), 0px 1px 3px 1px rgba(60, 64, 67, 0.15);\n",
              "      fill: #174EA6;\n",
              "    }\n",
              "\n",
              "    [theme=dark] .colab-df-convert {\n",
              "      background-color: #3B4455;\n",
              "      fill: #D2E3FC;\n",
              "    }\n",
              "\n",
              "    [theme=dark] .colab-df-convert:hover {\n",
              "      background-color: #434B5C;\n",
              "      box-shadow: 0px 1px 3px 1px rgba(0, 0, 0, 0.15);\n",
              "      filter: drop-shadow(0px 1px 2px rgba(0, 0, 0, 0.3));\n",
              "      fill: #FFFFFF;\n",
              "    }\n",
              "  </style>\n",
              "\n",
              "      <script>\n",
              "        const buttonEl =\n",
              "          document.querySelector('#df-d739f48f-f2a8-4bf3-b5df-93876335532c button.colab-df-convert');\n",
              "        buttonEl.style.display =\n",
              "          google.colab.kernel.accessAllowed ? 'block' : 'none';\n",
              "\n",
              "        async function convertToInteractive(key) {\n",
              "          const element = document.querySelector('#df-d739f48f-f2a8-4bf3-b5df-93876335532c');\n",
              "          const dataTable =\n",
              "            await google.colab.kernel.invokeFunction('convertToInteractive',\n",
              "                                                     [key], {});\n",
              "          if (!dataTable) return;\n",
              "\n",
              "          const docLinkHtml = 'Like what you see? Visit the ' +\n",
              "            '<a target=\"_blank\" href=https://colab.research.google.com/notebooks/data_table.ipynb>data table notebook</a>'\n",
              "            + ' to learn more about interactive tables.';\n",
              "          element.innerHTML = '';\n",
              "          dataTable['output_type'] = 'display_data';\n",
              "          await google.colab.output.renderOutput(dataTable, element);\n",
              "          const docLink = document.createElement('div');\n",
              "          docLink.innerHTML = docLinkHtml;\n",
              "          element.appendChild(docLink);\n",
              "        }\n",
              "      </script>\n",
              "    </div>\n",
              "  </div>\n",
              "  "
            ]
          },
          "metadata": {},
          "execution_count": 16
        }
      ]
    },
    {
      "cell_type": "markdown",
      "source": [
        "Les mots en fonction de leur fréquence d'apparition dans des critiques de notes différentes."
      ],
      "metadata": {
        "id": "ugDLgKxe2kyE"
      }
    },
    {
      "cell_type": "code",
      "source": [
        "sns.catplot(x=\"count\", y= \"word\", hue = \"grade\",data=word_count_by_grade)"
      ],
      "metadata": {
        "colab": {
          "base_uri": "https://localhost:8080/",
          "height": 386
        },
        "id": "Y9JylvP3N8dS",
        "outputId": "42ea939f-7b63-4632-e143-e9fe94378300"
      },
      "execution_count": null,
      "outputs": [
        {
          "output_type": "execute_result",
          "data": {
            "text/plain": [
              "<seaborn.axisgrid.FacetGrid at 0x7f39e5952910>"
            ]
          },
          "metadata": {},
          "execution_count": 17
        },
        {
          "output_type": "display_data",
          "data": {
            "text/plain": [
              "<Figure size 408.625x360 with 1 Axes>"
            ],
            "image/png": "[encoded data removed]"
          },
          "metadata": {
            "needs_background": "light"
          }
        }
      ]
    },
    {
      "cell_type": "markdown",
      "source": [
        "La fréquence d'apparition en fonction de la note attribuée des différents mots."
      ],
      "metadata": {
        "id": "1rk87al924I4"
      }
    },
    {
      "cell_type": "code",
      "source": [
        "sns.catplot(x=\"grade\", y= \"count\", col = \"word\",kind = \"bar\",data=word_count_by_grade)"
      ],
      "metadata": {
        "colab": {
          "base_uri": "https://localhost:8080/",
          "height": 406
        },
        "id": "PoQKdHD5BQTh",
        "outputId": "e8402416-d0aa-4d7f-b32d-0f1dd454bb08"
      },
      "execution_count": null,
      "outputs": [
        {
          "output_type": "execute_result",
          "data": {
            "text/plain": [
              "<seaborn.axisgrid.FacetGrid at 0x7f39e5994ed0>"
            ]
          },
          "metadata": {},
          "execution_count": 18
        },
        {
          "output_type": "display_data",
          "data": {
            "text/plain": [
              "<Figure size 4320x360 with 12 Axes>"
            ],
            "image/png": "[encoded data removed]"
          },
          "metadata": {
            "needs_background": "light"
          }
        }
      ]
    },
    {
      "cell_type": "markdown",
      "source": [
        "Le sentiment général de la critique en fonction de la note attribuée pour différents mots."
      ],
      "metadata": {
        "id": "N3MKYHOB3ByI"
      }
    },
    {
      "cell_type": "code",
      "source": [
        "sns.catplot(x=\"grade\", y= \"word\",kind = \"bar\", data=word_count_by_grade)"
      ],
      "metadata": {
        "colab": {
          "base_uri": "https://localhost:8080/",
          "height": 386
        },
        "id": "uEKcBrNp2WTG",
        "outputId": "7f5dc799-687f-4781-fefc-a2c44f1ab07c"
      },
      "execution_count": null,
      "outputs": [
        {
          "output_type": "execute_result",
          "data": {
            "text/plain": [
              "<seaborn.axisgrid.FacetGrid at 0x7f39e26d8e50>"
            ]
          },
          "metadata": {},
          "execution_count": 19
        },
        {
          "output_type": "display_data",
          "data": {
            "text/plain": [
              "<Figure size 360x360 with 1 Axes>"
            ],
            "image/png": "[encoded data removed]"
          },
          "metadata": {
            "needs_background": "light"
          }
        }
      ]
    },
    {
      "cell_type": "code",
      "source": [
        "sns.catplot(x=\"grade\", y= \"sentiment\",col=\"word\",kind = \"bar\", data=word_count_by_grade)"
      ],
      "metadata": {
        "id": "eLGTZ9XXdKR8",
        "outputId": "6326bc13-d41c-4d5d-f1fa-5111f65b2029",
        "colab": {
          "base_uri": "https://localhost:8080/",
          "height": 181
        }
      },
      "execution_count": null,
      "outputs": [
        {
          "output_type": "execute_result",
          "data": {
            "text/plain": [
              "<seaborn.axisgrid.FacetGrid at 0x7f39e255a210>"
            ]
          },
          "metadata": {},
          "execution_count": 20
        },
        {
          "output_type": "display_data",
          "data": {
            "text/plain": [
              "<Figure size 4320x360 with 12 Axes>"
            ],
            "image/png": "[encoded data removed]"
          },
          "metadata": {
            "needs_background": "light"
          }
        }
      ]
    },
    {
      "cell_type": "code",
      "source": [
        "sns.boxplot(x=\"count\", data = word_count_by_grade)"
      ],
      "metadata": {
        "colab": {
          "base_uri": "https://localhost:8080/",
          "height": 296
        },
        "id": "vJYj2z7fGYjW",
        "outputId": "d24e5dd7-de8d-4c6c-ea37-76886c02d98e"
      },
      "execution_count": null,
      "outputs": [
        {
          "output_type": "execute_result",
          "data": {
            "text/plain": [
              "<matplotlib.axes._subplots.AxesSubplot at 0x7f39e1cb65d0>"
            ]
          },
          "metadata": {},
          "execution_count": 21
        },
        {
          "output_type": "display_data",
          "data": {
            "text/plain": [
              "<Figure size 432x288 with 1 Axes>"
            ],
            "image/png": "[encoded data removed]"
          },
          "metadata": {
            "needs_background": "light"
          }
        }
      ]
    },
    {
      "cell_type": "code",
      "source": [
        "sns.boxplot(x = \"word\", y = \"count\", data = word_count_by_grade)"
      ],
      "metadata": {
        "colab": {
          "base_uri": "https://localhost:8080/",
          "height": 296
        },
        "id": "8JOnHDniubjT",
        "outputId": "564a0de8-685a-4736-a531-7e56d2c0ed98"
      },
      "execution_count": null,
      "outputs": [
        {
          "output_type": "execute_result",
          "data": {
            "text/plain": [
              "<matplotlib.axes._subplots.AxesSubplot at 0x7f39e1b9a4d0>"
            ]
          },
          "metadata": {},
          "execution_count": 22
        },
        {
          "output_type": "display_data",
          "data": {
            "text/plain": [
              "<Figure size 432x288 with 1 Axes>"
            ],
            "image/png": "[encoded data removed]"
          },
          "metadata": {
            "needs_background": "light"
          }
        }
      ]
    },
    {
      "cell_type": "code",
      "source": [
        "sns.scatterplot(x = \"count\", y = \"sentiment\", data = word_count_by_grade, hue = \"word\")"
      ],
      "metadata": {
        "colab": {
          "base_uri": "https://localhost:8080/",
          "height": 296
        },
        "id": "ESX6kZqYyk8I",
        "outputId": "f32310d4-6b05-4c9f-9921-99a4979c2e17"
      },
      "execution_count": null,
      "outputs": [
        {
          "output_type": "execute_result",
          "data": {
            "text/plain": [
              "<matplotlib.axes._subplots.AxesSubplot at 0x7f39e1a61e90>"
            ]
          },
          "metadata": {},
          "execution_count": 23
        },
        {
          "output_type": "display_data",
          "data": {
            "text/plain": [
              "<Figure size 432x288 with 1 Axes>"
            ],
            "image/png": "[encoded data removed]"
          },
          "metadata": {
            "needs_background": "light"
          }
        }
      ]
    }
  ]
}